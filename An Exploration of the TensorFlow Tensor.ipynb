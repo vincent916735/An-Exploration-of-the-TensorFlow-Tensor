{
 "cells": [
  {
   "cell_type": "markdown",
   "metadata": {},
   "source": [
    "An Exploration of the TensorFlow Tensor  -by Xueyang Ding (This notebook is done by myself, has copyright)"
   ]
  },
  {
   "cell_type": "markdown",
   "metadata": {},
   "source": [
    "In this jupyter notebook, I will give brief introduction about TensorFlow library, focusing on Tensor, from simple usage to complex usage"
   ]
  },
  {
   "cell_type": "markdown",
   "metadata": {},
   "source": [
    "What is tensorflow: TensorFlow is an open-source software library released by Google for dataflow programming, especially on deep learning on NN.\n",
    "What is tensor: I think tensor is like a vector, or a N-dimension arrays, it can be seen as a data structure to represent all data. And only tensors are passed between operations.\n",
    "What is flow: tensor(data) flows through computation graph...so called tensorflow...\n",
    "Two main sections of tf core programs: Building a computational graph. Running a computational graph."
   ]
  },
  {
   "cell_type": "markdown",
   "metadata": {},
   "source": [
    "Some terms in tensorflow:\n",
    "Graph: it is used to represent computing tasks, as well as some of the operations.\n",
    "Session: when a session is established, an empty map is generated, one session can create several graphs\n",
    "Tensor: as talked above, it is a data structure used in tensorflow\n",
    "Constant: constant, to record data or status, cannot be modified.\n",
    "Feed and Fetch: as arbitrary operations to assign or derive data, like shovels."
   ]
  },
  {
   "cell_type": "markdown",
   "metadata": {},
   "source": [
    "Data types in tensorflow:\n",
    "in tensorflow there is no need to specify the tensor data type, it will automatically assign to the correct type. But sometimes change type can save memory. The types are listed below:\n",
    "tf.float32: 32 bits floating point.\n",
    "tf.float64: 64 bits floating point.\n",
    "tf.int8: 8 bits integer.\n",
    "tf.int16: 16 bits integer.\n",
    "tf.int32: 32 bits integer.\n",
    "tf.int64: 64 bits integer.\n",
    "tf.uint8: 8 bits unsigned integer.\n",
    "tf.string: Variable length byte arrays.\n",
    "tf.bool: Boolean."
   ]
  },
  {
   "cell_type": "markdown",
   "metadata": {},
   "source": [
    "Now let's starting on explanation by coding~"
   ]
  },
  {
   "cell_type": "code",
   "execution_count": 2,
   "metadata": {},
   "outputs": [],
   "source": [
    "import numpy as np\n",
    "import tensorflow as tf"
   ]
  },
  {
   "cell_type": "code",
   "execution_count": 3,
   "metadata": {},
   "outputs": [
    {
     "name": "stdout",
     "output_type": "stream",
     "text": [
      "Tensor(\"Const:0\", shape=(), dtype=float32) Tensor(\"Const_1:0\", shape=(), dtype=float32) Tensor(\"Const_2:0\", shape=(), dtype=int32)\n"
     ]
    }
   ],
   "source": [
    "# Firstly start with simplest constant() function, used to define constants\n",
    "# buliding a graph\n",
    "node1 = tf.constant(1.0,tf.float32)   # create a constant node1, with value 3.0, type is declared as float32\n",
    "node2 = tf.constant(2.0)              # create a constant node2, with value 4.0, type is automatically declared as float32\n",
    "node3 = tf.constant(3)                # create a constant node2, with value 4, type is automatically declared as int32\n",
    "print(node1,node2,node3)              # the output is just abstract tensor, no actual calculations"
   ]
  },
  {
   "cell_type": "code",
   "execution_count": 4,
   "metadata": {},
   "outputs": [
    {
     "name": "stdout",
     "output_type": "stream",
     "text": [
      "[1.0, 2.0, 3]\n"
     ]
    }
   ],
   "source": [
    "# running a graph, note that the graph needs to be runned in a session (can based on CPUs or GPUs)!\n",
    "s1 = tf.Session()                                  # create a session object\n",
    "print(s1.run([node1,node2,node3]))                 # run the results, start computation\n",
    "s1.close()                                         # release these resources when they are no longer required"
   ]
  },
  {
   "cell_type": "code",
   "execution_count": 5,
   "metadata": {},
   "outputs": [
    {
     "name": "stdout",
     "output_type": "stream",
     "text": [
      "[1.0, 2.0, 3]\n"
     ]
    }
   ],
   "source": [
    "# Another way to do above thing, with session automatically closed\n",
    "with tf.Session() as s1:\n",
    "    output = s1.run([node1,node2,node3])\n",
    "print(output)"
   ]
  },
  {
   "cell_type": "code",
   "execution_count": 6,
   "metadata": {},
   "outputs": [
    {
     "name": "stdout",
     "output_type": "stream",
     "text": [
      "[7, -1, 12, 0.75, 3]\n"
     ]
    }
   ],
   "source": [
    "# Simple Arithmetic operation examples~\n",
    "node1 = tf.constant(3)\n",
    "node2 = tf.constant(4)\n",
    "a = node1 + node2         # similar as tf.add(node1,node2)\n",
    "b = node1 - node2         # similar as tf.subtract(node1,node2)\n",
    "c = node1 * node2         # similar as tf.multiply(node1,node2)\n",
    "d = node1 / node2         # similar as tf.divide(node1,node2)\n",
    "e = node1 % node2         # similar as tf.mod(node1,node2)\n",
    "s1 = tf.Session()\n",
    "print(s1.run([a,b,c,d,e]))\n",
    "s1.close()\n",
    "# there are many other arithmetic operation functions such as tf.pow,tf.sqrt,tf.log ..."
   ]
  },
  {
   "cell_type": "code",
   "execution_count": 7,
   "metadata": {},
   "outputs": [
    {
     "name": "stdout",
     "output_type": "stream",
     "text": [
      "[[13]]\n",
      "[[1 2 3]\n",
      " [2 4 6]\n",
      " [3 6 9]]\n"
     ]
    }
   ],
   "source": [
    "# Now let's deal with matrix, still play with constant\n",
    "m1 = tf.constant([[2,3]])       # create a matrix, shape(1,2):1 row, 2 columns, \n",
    "m2 = tf.constant([[2],[3]])     # create a matrix, shape(2,1):2 row, 1 columns,\n",
    "m3 = tf.constant([1, 2, 3], shape=[3,1])  #shape = [x1,x2,x3...]. x1 to xn means from outer to inner, the number of elements in each layer\n",
    "m4 = tf.constant([1, 2, 3], shape=[1,3])\n",
    "s1 = tf.Session()\n",
    "print(s1.run(tf.matmul(m1,m2)))          # matrix dot product\n",
    "print(s1.run(tf.matmul(m3,m4)))          # matrix dot product\n",
    "s1.close()\n",
    "# sometimes m1+m2, or m3+m4 or use '-', can get a result, but this is different with traditional matrix '+' or '-'!"
   ]
  },
  {
   "cell_type": "markdown",
   "metadata": {},
   "source": [
    "The previous statements are all about constant, it takes no inputs, and outputs are always constant. What if a graph wants to external inputs?\n",
    "The next part is focusing on placeholders. It can be understood as: a placeholder will be used to reserve this place, for further value input"
   ]
  },
  {
   "cell_type": "code",
   "execution_count": 19,
   "metadata": {},
   "outputs": [
    {
     "name": "stdout",
     "output_type": "stream",
     "text": [
      "3.0\n",
      "[4. 6.]\n"
     ]
    }
   ],
   "source": [
    "#  create two placeholders a and b, no value initialized\n",
    "a = tf.placeholder(tf.float32) \n",
    "b = tf.placeholder(tf.float32)\n",
    "add_ab = tf.add(a,b)\n",
    "s1 = tf.Session()\n",
    "print(s1.run(add_ab,{a:1,b:2}))           # feed the value a and b\n",
    "print(s1.run(add_ab,{a:[1,2],b:[3,4]}))   # feed the value a and b\n",
    "s1.close()\n"
   ]
  },
  {
   "cell_type": "markdown",
   "metadata": {},
   "source": [
    "The next part will talk about the variables in tensorflow, in order to train the model, we need changed parameters, for example, each training iteration the parameters will be changed given the feedback. The variables used to hold the updated parameters"
   ]
  },
  {
   "cell_type": "code",
   "execution_count": 28,
   "metadata": {},
   "outputs": [
    {
     "name": "stdout",
     "output_type": "stream",
     "text": [
      "[0.         0.3        0.6        0.90000004]\n"
     ]
    }
   ],
   "source": [
    "# simple linear model explanation\n",
    "# notice, the variable needs to be initialized\n",
    "k = tf.Variable([.3],tf.float32)          # create two variables with initialized value 0.3 and -0.3\n",
    "b = tf.Variable([-.3],tf.float32)\n",
    "x = tf.placeholder(tf.float32)\n",
    "linear_model = k * x + b\n",
    "init = tf.global_variables_initializer()  # initialize variables when this part is run\n",
    "s1 = tf.Session()\n",
    "s1.run(init)\n",
    "print(s1.run(linear_model,{x:[1,2,3,4]}))"
   ]
  },
  {
   "cell_type": "markdown",
   "metadata": {},
   "source": [
    "In order to train a model, we need to know the loss, then change to parameter to minimise the loss, here is the example of loss function"
   ]
  },
  {
   "cell_type": "code",
   "execution_count": 29,
   "metadata": {},
   "outputs": [
    {
     "name": "stdout",
     "output_type": "stream",
     "text": [
      "43.260002\n"
     ]
    }
   ],
   "source": [
    "# using the example above:\n",
    "y = tf.placeholder(tf.float32)               # assuming this y is the actual value\n",
    "squared_diff = tf.square(y - linear_model)   # the squared difference between real value and predicted value\n",
    "loss = tf.reduce_sum(squared_diff)           # reduce_sum is used to calculate the sum value of input \n",
    "print(s1.run(loss,{x:[1,2,3,4],y:[-1,-2,-3,-4]}))"
   ]
  },
  {
   "cell_type": "code",
   "execution_count": 31,
   "metadata": {},
   "outputs": [
    {
     "name": "stdout",
     "output_type": "stream",
     "text": [
      "[array([-0.9999987], dtype=float32), array([-3.871269e-06], dtype=float32)]\n"
     ]
    },
    {
     "data": {
      "text/plain": [
       "<bound method BaseSession.close of <tensorflow.python.client.session.Session object at 0x000002C0269BC908>>"
      ]
     },
     "execution_count": 31,
     "metadata": {},
     "output_type": "execute_result"
    }
   ],
   "source": [
    "# now the variable k and b will be updated in order to reduce the loss using simple gradient descent optimizer, use example above\n",
    "optimizer = tf.train.GradientDescentOptimizer(0.01)  # it will implement the gradient descent of algorithm,learning rate is 0.01\n",
    "train = optimizer.minimize(loss)                     # minimise the loss by updating the variables\n",
    "s1.run(init)\n",
    "for i in range(1000):                                # train 1000 times\n",
    "    s1.run(train,{x:[1,2,3,4],y:[-1,-2,-3,-4]})\n",
    "print(s1.run([k,b]))                                 # optimized k and b value after 1000 trains\n",
    "s1.close"
   ]
  },
  {
   "cell_type": "markdown",
   "metadata": {},
   "source": [
    "All the things above are simple useage of tensorflow, the next parts will be a little bit complex.\n",
    "In next part, I will build a simple neural network with TensorFlow to show how it works, and coding a CNN to do image recognition,using dataset from MNIST. MNIST is a simple data set of computer vision, which is composed of the handwritten Arabia digital images. Given the set of training pics, the model will recognize what number in the picture given test pics.\n",
    "lets start!\n",
    "Note: the code framework is learnt from the example of CNN from the internet, I learnt CNN model in my ML lecture but this is the first time to coding it using tensorflow."
   ]
  },
  {
   "cell_type": "code",
   "execution_count": 3,
   "metadata": {},
   "outputs": [
    {
     "name": "stdout",
     "output_type": "stream",
     "text": [
      "Extracting MNIST_data/train-images-idx3-ubyte.gz\n",
      "Extracting MNIST_data/train-labels-idx1-ubyte.gz\n",
      "Extracting MNIST_data/t10k-images-idx3-ubyte.gz\n",
      "Extracting MNIST_data/t10k-labels-idx1-ubyte.gz\n",
      "training time 0  accuracy 0.141\n",
      "training time 5  accuracy 0.189\n",
      "training time 10  accuracy 0.264\n",
      "training time 15  accuracy 0.481\n",
      "training time 20  accuracy 0.493\n",
      "training time 25  accuracy 0.622\n",
      "training time 30  accuracy 0.653\n",
      "training time 35  accuracy 0.7\n",
      "training time 40  accuracy 0.735\n",
      "training time 45  accuracy 0.732\n",
      "training time 50  accuracy 0.752\n",
      "training time 55  accuracy 0.78\n",
      "training time 60  accuracy 0.795\n",
      "training time 65  accuracy 0.794\n",
      "training time 70  accuracy 0.806\n",
      "training time 75  accuracy 0.811\n",
      "training time 80  accuracy 0.821\n",
      "training time 85  accuracy 0.827\n",
      "training time 90  accuracy 0.84\n",
      "training time 95  accuracy 0.847\n"
     ]
    }
   ],
   "source": [
    "from __future__ import print_function\n",
    "import tensorflow as tf\n",
    "from tensorflow.examples.tutorials.mnist import input_data\n",
    "\n",
    "mnist = input_data.read_data_sets(\"MNIST_data/\", one_hot=True) # I search the website, the one_hot is used for machine to distinguish elements\n",
    "\n",
    "\n",
    "def compute_accuracy(v_xs, v_ys):\n",
    "    global prediction\n",
    "    y_pre = sess.run(prediction, feed_dict={xs: v_xs, keep_prob: 1})\n",
    "    correct_prediction = tf.equal(tf.argmax(y_pre,1), tf.argmax(v_ys,1))\n",
    "    accuracy = tf.reduce_mean(tf.cast(correct_prediction, tf.float32))\n",
    "    result = sess.run(accuracy, feed_dict={xs: v_xs, ys: v_ys, keep_prob: 1})\n",
    "    return result\n",
    "\n",
    "def weight_variable(shape):                              # Weight initialization function\n",
    "    initial = tf.truncated_normal(shape, stddev=0.1)\n",
    "    return tf.Variable(initial)\n",
    " \n",
    "def bias_variable(shape):                               # Bias initialization function, bias used for avoiding 0 gradient\n",
    "    initial = tf.constant(0.1, shape=shape)\n",
    "    return tf.Variable(initial)\n",
    "\n",
    "def conv2d(x,W):                                 # convolution function, set the 1 stride size, 0 padding size\n",
    "    return tf.nn.conv2d(x, W, strides=[1, 1, 1, 1], padding='SAME')\n",
    "\n",
    "def max_pool_2x2(x):                                  # use traditional 2*2 to do max pooling\n",
    "    return tf.nn.max_pool(x, ksize=[1,2,2,1], strides=[1,2,2,1], padding='SAME')\n",
    "\n",
    "xs = tf.placeholder(tf.float32, [None, 784])/255.   # 28x28\n",
    "ys = tf.placeholder(tf.float32, [None, 10])\n",
    "keep_prob = tf.placeholder(tf.float32)\n",
    "x_image = tf.reshape(xs, [-1, 28, 28, 1])   # x is a 4d vector,28,28 means the width and height, 1 means the color\n",
    "\n",
    "\"\"\"\n",
    "Convolution calculates 32 characteristics in the patch of each 5x5.\n",
    "The weight tensor shape of convolution is [5, 5, 1, 32]\n",
    "\"\"\"\n",
    "# first level of convolution\n",
    "W_conv1 = weight_variable([5, 5, 1, 32])            \n",
    "b_conv1 = bias_variable([32])\n",
    "\n",
    "\"\"\"\n",
    "We then convolve x_image with the weight tensor, add the bias, apply the ReLU function, and finally max pool.\n",
    "ReLU function is a common activation function\n",
    "\"\"\"\n",
    "h_conv1 = tf.nn.relu(conv2d(x_image,W_conv1) + b_conv1) \n",
    "h_pool1 = max_pool_2x2(h_conv1)\n",
    "\n",
    " # second level of convolution\n",
    "W_conv2 = weight_variable([5, 5, 32, 64])       \n",
    "b_conv2 = bias_variable([64]) \n",
    "\n",
    "h_conv2 = tf.nn.relu(conv2d(h_pool1, W_conv2) + b_conv2)  # output size 14x14x64\n",
    "h_pool2 = max_pool_2x2(h_conv2)                           # output size 7x7x64\n",
    "\n",
    "\"\"\"\n",
    "Now that the picture size is reduced to 7x7, we add a fully connected layer of 1024 neurons to process the entire picture. \n",
    "We turn the tensor reshape of the pool layer output into vectors, multiply the weight matrix, add bias, and then use ReLU for it\n",
    "\"\"\"\n",
    "W_fc1 = weight_variable([7 * 7 * 64, 1024])\n",
    "b_fc1 = bias_variable([1024])\n",
    "\n",
    "h_pool2_flat = tf.reshape(h_pool2, [-1, 7*7*64])\n",
    "h_fc1 = tf.nn.relu(tf.matmul(h_pool2_flat, W_fc1) + b_fc1)\n",
    "\n",
    "\"\"\"\n",
    "To reduce overfitting, we add dropout before the output layer, dropout will randomly shut down some neurals to force the data\n",
    "flows to other neruals\n",
    "\"\"\"\n",
    "\n",
    "h_fc1_drop = tf.nn.dropout(h_fc1, keep_prob)\n",
    "\n",
    "W_fc2 = weight_variable([1024, 10])      # the output layer\n",
    "b_fc2 = bias_variable([10])\n",
    "\n",
    "prediction = tf.nn.softmax(tf.matmul(h_fc1_drop, W_fc2) + b_fc2)\n",
    "\n",
    "cross_entropy = tf.reduce_mean(-tf.reduce_sum(ys * tf.log(prediction),\n",
    "                                              reduction_indices=[1]))       # loss\n",
    "train_step = tf.train.AdamOptimizer(1e-4).minimize(cross_entropy)\n",
    "\n",
    "sess = tf.Session()\n",
    "\n",
    "if int((tf.__version__).split('.')[1]) < 12 and int((tf.__version__).split('.')[0]) < 1:\n",
    "    init = tf.initialize_all_variables()\n",
    "else:\n",
    "    init = tf.global_variables_initializer()\n",
    "sess.run(init)\n",
    "accuracy = []\n",
    "training_time = []\n",
    "for i in range(100):\n",
    "    batch_xs, batch_ys = mnist.train.next_batch(100)\n",
    "    sess.run(train_step, feed_dict={xs: batch_xs, ys: batch_ys, keep_prob: 0.5})\n",
    "    if i % 5 == 0:\n",
    "        training_time.append(i)\n",
    "        accuracy.append(compute_accuracy(mnist.test.images[:1000], mnist.test.labels[:1000]))\n",
    "        print('training time',i,' accuracy',compute_accuracy(mnist.test.images[:1000], mnist.test.labels[:1000]))"
   ]
  },
  {
   "cell_type": "code",
   "execution_count": 9,
   "metadata": {},
   "outputs": [
    {
     "data": {
      "image/png": "[encoded data removed]",
      "text/plain": [
       "<Figure size 432x288 with 1 Axes>"
      ]
     },
     "metadata": {},
     "output_type": "display_data"
    }
   ],
   "source": [
    "import matplotlib.pyplot as plt\n",
    "plt.figure()\n",
    "plt.title('Relationship between accuracy and training times')\n",
    "plt.xlabel('Accuracy')\n",
    "plt.ylabel('Training times')\n",
    "plt.plot(accuracy,training_time,label = 'curve')\n",
    "plt.legend()\n",
    "plt.show()"
   ]
  },
  {
   "cell_type": "code",
   "execution_count": null,
   "metadata": {},
   "outputs": [],
   "source": []
  }
 ],
 "metadata": {
  "kernelspec": {
   "display_name": "Python 3",
   "language": "python",
   "name": "python3"
  },
  "language_info": {
   "codemirror_mode": {
    "name": "ipython",
    "version": 3
   },
   "file_extension": ".py",
   "mimetype": "text/x-python",
   "name": "python",
   "nbconvert_exporter": "python",
   "pygments_lexer": "ipython3",
   "version": "3.6.5"
  }
 },
 "nbformat": 4,
 "nbformat_minor": 2
}
